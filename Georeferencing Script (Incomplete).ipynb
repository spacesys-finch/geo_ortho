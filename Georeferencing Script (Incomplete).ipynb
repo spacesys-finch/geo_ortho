{
 "cells": [
  {
   "cell_type": "code",
   "execution_count": null,
   "id": "e1ae62ad",
   "metadata": {},
   "outputs": [],
   "source": [
    "# import the necessary libraries\n",
    "import shutil\n",
    "from osgeo import gdal, osr"
   ]
  },
  {
   "cell_type": "code",
   "execution_count": null,
   "id": "721b2ea0",
   "metadata": {},
   "outputs": [],
   "source": [
    "# assigning our imagery to variables\n",
    "orig_fn = \"uoftimagery\\\\uoft_1989.jpg\" #change to user directory\n",
    "output_fn = \"uoftimagery\\\\uoft_1989output.tif\" #change to user directory"
   ]
  },
  {
   "cell_type": "code",
   "execution_count": null,
   "id": "f5653a9c",
   "metadata": {},
   "outputs": [],
   "source": [
    "# Create a copy of the original file and save it as the output filename:\n",
    "shutil.copy(orig_fn, output_fn)"
   ]
  },
  {
   "cell_type": "code",
   "execution_count": null,
   "id": "a95b17c9",
   "metadata": {},
   "outputs": [],
   "source": [
    "# Open the output file for writing:\n",
    "ds = gdal.Open(output_fn)"
   ]
  },
  {
   "cell_type": "code",
   "execution_count": null,
   "id": "a7d4f584",
   "metadata": {},
   "outputs": [],
   "source": [
    "# Set spatial reference:\n",
    "sr = osr.SpatialReference()\n",
    "sr.ImportFromEPSG(32617) #UTM Zone 17N"
   ]
  },
  {
   "cell_type": "code",
   "execution_count": null,
   "id": "59a4359e",
   "metadata": {},
   "outputs": [],
   "source": [
    "# # Enter the GCPs (in UTM Easting/Northing)\n",
    "# #   Format: [map x-coordinate(longitude)], [map y-coordinate (latitude)], [elevation],\n",
    "# #   [image column index(x)], [image row index (y)]\n",
    "# gcps = [gdal.GCP(645.790394, -410.492907, 0, 629739.691972, 4835458.567088),\n",
    "#         gdal.GCP(649.870781, -180.577061, 0, 629566.063766, 4836013.028976),      \n",
    "#         gdal.GCP(46.374287, -36.307572, 0, 627998.077936, 4835878.617918),\n",
    "#         gdal.GCP(73.216098, -853.749522, 0, 628716.057736, 4833926.701358),    \n",
    "#         gdal.GCP(1083.438898, -967.963794, 0, 631256.278983, 4834463.331615),    \n",
    "#         gdal.GCP(1016.501004, -55.684149, 0, 630342.895060, 4836606.871788)]"
   ]
  },
  {
   "cell_type": "code",
   "execution_count": null,
   "id": "b113091d",
   "metadata": {},
   "outputs": [],
   "source": [
    "# Enter the GCPs (in lat/long)\n",
    "#   Format: [map x-coordinate(longitude)], [map y-coordinate (latitude)], [elevation],\n",
    "#   [image column index(x)], [image row index (y)]\n",
    "gcps = [gdal.GCP(645.790394, -410.492907, 0, 43.660808, -79.390925),\n",
    "        gdal.GCP(649.870781, -180.577061, 0, 43.665829, -79.392944),      \n",
    "        gdal.GCP(46.374287, -36.307572, 0,  43.664891, -79.412417),\n",
    "        gdal.GCP(73.216098, -853.749522, 0, 43.647198, -79.40398),    \n",
    "        gdal.GCP(1083.438898, -967.963794, 0, 43.651584, -79.372365),    \n",
    "        gdal.GCP(1016.501004, -55.684149, 0, 43.671038, -79.383169)]"
   ]
  },
  {
   "cell_type": "code",
   "execution_count": null,
   "id": "c8f6ade4",
   "metadata": {},
   "outputs": [],
   "source": [
    "ds.SetProjection(sr.ExportToWkt())\n",
    "wkt = ds.GetProjection()\n",
    "ds.SetGCPs(gcps,wkt)\n",
    "gdal.Warp(\"uoft_1989output.tif\", ds, dstSRS='EPSG:32617', format='gtiff')"
   ]
  },
  {
   "cell_type": "code",
   "execution_count": null,
   "id": "1d88ade7",
   "metadata": {},
   "outputs": [],
   "source": [
    "ds = None"
   ]
  }
 ],
 "metadata": {
  "kernelspec": {
   "display_name": "Python 3 (ipykernel)",
   "language": "python",
   "name": "python3"
  },
  "language_info": {
   "codemirror_mode": {
    "name": "ipython",
    "version": 3
   },
   "file_extension": ".py",
   "mimetype": "text/x-python",
   "name": "python",
   "nbconvert_exporter": "python",
   "pygments_lexer": "ipython3",
   "version": "3.10.7"
  }
 },
 "nbformat": 4,
 "nbformat_minor": 5
}
